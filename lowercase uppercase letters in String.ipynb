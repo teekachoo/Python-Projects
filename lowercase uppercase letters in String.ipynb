{
 "cells": [
  {
   "cell_type": "markdown",
   "metadata": {},
   "source": [
    "    Define a function called myfunc that takes in a string, and returns a matching string where every even letter is uppercase and every odd letter is lowercase. Assume that the incoming string only contains letters, and don't worry about numbers or punctuation. The output string can start with either an uppercase or lowercase letter, so long as letters alternate throughout the string.\n",
    "\n",
    "    Example: \n",
    "    myfunc('Anthropomorphism')\n",
    "\n",
    "    #Output: 'aNtHrOpOmOrPhIsM'\n"
   ]
  },
  {
   "cell_type": "code",
   "execution_count": 42,
   "metadata": {},
   "outputs": [
    {
     "data": {
      "text/plain": [
       "'bItIpImOmUp'"
      ]
     },
     "execution_count": 42,
     "metadata": {},
     "output_type": "execute_result"
    }
   ],
   "source": [
    "def myfunc(mystring):\n",
    "    result = ''\n",
    "    #mystring = 'BiTipimomup'\n",
    "    for x,y in enumerate(mystring,start=1):\n",
    "        if x%2==0:\n",
    "            result+=y.upper()\n",
    "        else:\n",
    "            result+=y.lower()\n",
    "    return result\n",
    "\n",
    "myfunc('BiTipimomup')\n"
   ]
  },
  {
   "cell_type": "markdown",
   "metadata": {},
   "source": []
  },
  {
   "cell_type": "markdown",
   "metadata": {},
   "source": []
  }
 ],
 "metadata": {
  "kernelspec": {
   "display_name": "Python 3",
   "language": "python",
   "name": "python3"
  },
  "language_info": {
   "codemirror_mode": {
    "name": "ipython",
    "version": 3
   },
   "file_extension": ".py",
   "mimetype": "text/x-python",
   "name": "python",
   "nbconvert_exporter": "python",
   "pygments_lexer": "ipython3",
   "version": "3.6.5"
  }
 },
 "nbformat": 4,
 "nbformat_minor": 2
}
